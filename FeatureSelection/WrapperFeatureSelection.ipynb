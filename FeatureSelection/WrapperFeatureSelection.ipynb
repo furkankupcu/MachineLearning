{
  "cells": [
    {
      "cell_type": "code",
      "execution_count": null,
      "id": "9ae2e2a9-bdcf-475e-93b2-93d464fdb0c1",
      "metadata": {
        "id": "9ae2e2a9-bdcf-475e-93b2-93d464fdb0c1"
      },
      "outputs": [],
      "source": [
        "import pandas as pd"
      ]
    },
    {
      "cell_type": "code",
      "execution_count": null,
      "id": "e03dd981-b184-42f2-abbf-dc755b510a97",
      "metadata": {
        "id": "e03dd981-b184-42f2-abbf-dc755b510a97"
      },
      "outputs": [],
      "source": [
        "data=pd.read_csv(\"data.csv\")"
      ]
    },
    {
      "cell_type": "code",
      "execution_count": null,
      "id": "5a1a013e-eb9e-45dc-afd0-322e02dfe7b2",
      "metadata": {
        "id": "5a1a013e-eb9e-45dc-afd0-322e02dfe7b2",
        "outputId": "0272faa7-97eb-4c42-98ea-b8d67bdcc312"
      },
      "outputs": [
        {
          "data": {
            "text/html": [
              "<div>\n",
              "<style scoped>\n",
              "    .dataframe tbody tr th:only-of-type {\n",
              "        vertical-align: middle;\n",
              "    }\n",
              "\n",
              "    .dataframe tbody tr th {\n",
              "        vertical-align: top;\n",
              "    }\n",
              "\n",
              "    .dataframe thead th {\n",
              "        text-align: right;\n",
              "    }\n",
              "</style>\n",
              "<table border=\"1\" class=\"dataframe\">\n",
              "  <thead>\n",
              "    <tr style=\"text-align: right;\">\n",
              "      <th></th>\n",
              "      <th>X1</th>\n",
              "      <th>X2</th>\n",
              "      <th>X3</th>\n",
              "      <th>X4</th>\n",
              "      <th>X5</th>\n",
              "      <th>X6</th>\n",
              "      <th>X7</th>\n",
              "      <th>X8</th>\n",
              "      <th>Y1</th>\n",
              "      <th>Y2</th>\n",
              "    </tr>\n",
              "  </thead>\n",
              "  <tbody>\n",
              "    <tr>\n",
              "      <th>0</th>\n",
              "      <td>0.98</td>\n",
              "      <td>514.5</td>\n",
              "      <td>294.0</td>\n",
              "      <td>110.25</td>\n",
              "      <td>7.0</td>\n",
              "      <td>2</td>\n",
              "      <td>0.0</td>\n",
              "      <td>0</td>\n",
              "      <td>15.55</td>\n",
              "      <td>21.33</td>\n",
              "    </tr>\n",
              "    <tr>\n",
              "      <th>1</th>\n",
              "      <td>0.98</td>\n",
              "      <td>514.5</td>\n",
              "      <td>294.0</td>\n",
              "      <td>110.25</td>\n",
              "      <td>7.0</td>\n",
              "      <td>3</td>\n",
              "      <td>0.0</td>\n",
              "      <td>0</td>\n",
              "      <td>15.55</td>\n",
              "      <td>21.33</td>\n",
              "    </tr>\n",
              "    <tr>\n",
              "      <th>2</th>\n",
              "      <td>0.98</td>\n",
              "      <td>514.5</td>\n",
              "      <td>294.0</td>\n",
              "      <td>110.25</td>\n",
              "      <td>7.0</td>\n",
              "      <td>4</td>\n",
              "      <td>0.0</td>\n",
              "      <td>0</td>\n",
              "      <td>15.55</td>\n",
              "      <td>21.33</td>\n",
              "    </tr>\n",
              "    <tr>\n",
              "      <th>3</th>\n",
              "      <td>0.98</td>\n",
              "      <td>514.5</td>\n",
              "      <td>294.0</td>\n",
              "      <td>110.25</td>\n",
              "      <td>7.0</td>\n",
              "      <td>5</td>\n",
              "      <td>0.0</td>\n",
              "      <td>0</td>\n",
              "      <td>15.55</td>\n",
              "      <td>21.33</td>\n",
              "    </tr>\n",
              "    <tr>\n",
              "      <th>4</th>\n",
              "      <td>0.90</td>\n",
              "      <td>563.5</td>\n",
              "      <td>318.5</td>\n",
              "      <td>122.50</td>\n",
              "      <td>7.0</td>\n",
              "      <td>2</td>\n",
              "      <td>0.0</td>\n",
              "      <td>0</td>\n",
              "      <td>20.84</td>\n",
              "      <td>28.28</td>\n",
              "    </tr>\n",
              "    <tr>\n",
              "      <th>...</th>\n",
              "      <td>...</td>\n",
              "      <td>...</td>\n",
              "      <td>...</td>\n",
              "      <td>...</td>\n",
              "      <td>...</td>\n",
              "      <td>...</td>\n",
              "      <td>...</td>\n",
              "      <td>...</td>\n",
              "      <td>...</td>\n",
              "      <td>...</td>\n",
              "    </tr>\n",
              "    <tr>\n",
              "      <th>763</th>\n",
              "      <td>0.64</td>\n",
              "      <td>784.0</td>\n",
              "      <td>343.0</td>\n",
              "      <td>220.50</td>\n",
              "      <td>3.5</td>\n",
              "      <td>5</td>\n",
              "      <td>0.4</td>\n",
              "      <td>5</td>\n",
              "      <td>17.88</td>\n",
              "      <td>21.40</td>\n",
              "    </tr>\n",
              "    <tr>\n",
              "      <th>764</th>\n",
              "      <td>0.62</td>\n",
              "      <td>808.5</td>\n",
              "      <td>367.5</td>\n",
              "      <td>220.50</td>\n",
              "      <td>3.5</td>\n",
              "      <td>2</td>\n",
              "      <td>0.4</td>\n",
              "      <td>5</td>\n",
              "      <td>16.54</td>\n",
              "      <td>16.88</td>\n",
              "    </tr>\n",
              "    <tr>\n",
              "      <th>765</th>\n",
              "      <td>0.62</td>\n",
              "      <td>808.5</td>\n",
              "      <td>367.5</td>\n",
              "      <td>220.50</td>\n",
              "      <td>3.5</td>\n",
              "      <td>3</td>\n",
              "      <td>0.4</td>\n",
              "      <td>5</td>\n",
              "      <td>16.44</td>\n",
              "      <td>17.11</td>\n",
              "    </tr>\n",
              "    <tr>\n",
              "      <th>766</th>\n",
              "      <td>0.62</td>\n",
              "      <td>808.5</td>\n",
              "      <td>367.5</td>\n",
              "      <td>220.50</td>\n",
              "      <td>3.5</td>\n",
              "      <td>4</td>\n",
              "      <td>0.4</td>\n",
              "      <td>5</td>\n",
              "      <td>16.48</td>\n",
              "      <td>16.61</td>\n",
              "    </tr>\n",
              "    <tr>\n",
              "      <th>767</th>\n",
              "      <td>0.62</td>\n",
              "      <td>808.5</td>\n",
              "      <td>367.5</td>\n",
              "      <td>220.50</td>\n",
              "      <td>3.5</td>\n",
              "      <td>5</td>\n",
              "      <td>0.4</td>\n",
              "      <td>5</td>\n",
              "      <td>16.64</td>\n",
              "      <td>16.03</td>\n",
              "    </tr>\n",
              "  </tbody>\n",
              "</table>\n",
              "<p>768 rows × 10 columns</p>\n",
              "</div>"
            ],
            "text/plain": [
              "       X1     X2     X3      X4   X5  X6   X7  X8     Y1     Y2\n",
              "0    0.98  514.5  294.0  110.25  7.0   2  0.0   0  15.55  21.33\n",
              "1    0.98  514.5  294.0  110.25  7.0   3  0.0   0  15.55  21.33\n",
              "2    0.98  514.5  294.0  110.25  7.0   4  0.0   0  15.55  21.33\n",
              "3    0.98  514.5  294.0  110.25  7.0   5  0.0   0  15.55  21.33\n",
              "4    0.90  563.5  318.5  122.50  7.0   2  0.0   0  20.84  28.28\n",
              "..    ...    ...    ...     ...  ...  ..  ...  ..    ...    ...\n",
              "763  0.64  784.0  343.0  220.50  3.5   5  0.4   5  17.88  21.40\n",
              "764  0.62  808.5  367.5  220.50  3.5   2  0.4   5  16.54  16.88\n",
              "765  0.62  808.5  367.5  220.50  3.5   3  0.4   5  16.44  17.11\n",
              "766  0.62  808.5  367.5  220.50  3.5   4  0.4   5  16.48  16.61\n",
              "767  0.62  808.5  367.5  220.50  3.5   5  0.4   5  16.64  16.03\n",
              "\n",
              "[768 rows x 10 columns]"
            ]
          },
          "execution_count": 4,
          "metadata": {},
          "output_type": "execute_result"
        }
      ],
      "source": [
        "data"
      ]
    },
    {
      "cell_type": "code",
      "execution_count": null,
      "id": "6ba86007-e93c-4038-9a9c-a3124350038a",
      "metadata": {
        "id": "6ba86007-e93c-4038-9a9c-a3124350038a",
        "outputId": "4a9d2274-5b6e-477d-d4b6-e16888993736"
      },
      "outputs": [
        {
          "data": {
            "text/html": [
              "<div>\n",
              "<style scoped>\n",
              "    .dataframe tbody tr th:only-of-type {\n",
              "        vertical-align: middle;\n",
              "    }\n",
              "\n",
              "    .dataframe tbody tr th {\n",
              "        vertical-align: top;\n",
              "    }\n",
              "\n",
              "    .dataframe thead th {\n",
              "        text-align: right;\n",
              "    }\n",
              "</style>\n",
              "<table border=\"1\" class=\"dataframe\">\n",
              "  <thead>\n",
              "    <tr style=\"text-align: right;\">\n",
              "      <th></th>\n",
              "      <th>count</th>\n",
              "      <th>mean</th>\n",
              "      <th>std</th>\n",
              "      <th>min</th>\n",
              "      <th>25%</th>\n",
              "      <th>50%</th>\n",
              "      <th>75%</th>\n",
              "      <th>max</th>\n",
              "    </tr>\n",
              "  </thead>\n",
              "  <tbody>\n",
              "    <tr>\n",
              "      <th>X1</th>\n",
              "      <td>768.0</td>\n",
              "      <td>0.764167</td>\n",
              "      <td>0.105777</td>\n",
              "      <td>0.62</td>\n",
              "      <td>0.6825</td>\n",
              "      <td>0.75</td>\n",
              "      <td>0.8300</td>\n",
              "      <td>0.98</td>\n",
              "    </tr>\n",
              "    <tr>\n",
              "      <th>X2</th>\n",
              "      <td>768.0</td>\n",
              "      <td>671.708333</td>\n",
              "      <td>88.086116</td>\n",
              "      <td>514.50</td>\n",
              "      <td>606.3750</td>\n",
              "      <td>673.75</td>\n",
              "      <td>741.1250</td>\n",
              "      <td>808.50</td>\n",
              "    </tr>\n",
              "    <tr>\n",
              "      <th>X3</th>\n",
              "      <td>768.0</td>\n",
              "      <td>318.500000</td>\n",
              "      <td>43.626481</td>\n",
              "      <td>245.00</td>\n",
              "      <td>294.0000</td>\n",
              "      <td>318.50</td>\n",
              "      <td>343.0000</td>\n",
              "      <td>416.50</td>\n",
              "    </tr>\n",
              "    <tr>\n",
              "      <th>X4</th>\n",
              "      <td>768.0</td>\n",
              "      <td>176.604167</td>\n",
              "      <td>45.165950</td>\n",
              "      <td>110.25</td>\n",
              "      <td>140.8750</td>\n",
              "      <td>183.75</td>\n",
              "      <td>220.5000</td>\n",
              "      <td>220.50</td>\n",
              "    </tr>\n",
              "    <tr>\n",
              "      <th>X5</th>\n",
              "      <td>768.0</td>\n",
              "      <td>5.250000</td>\n",
              "      <td>1.751140</td>\n",
              "      <td>3.50</td>\n",
              "      <td>3.5000</td>\n",
              "      <td>5.25</td>\n",
              "      <td>7.0000</td>\n",
              "      <td>7.00</td>\n",
              "    </tr>\n",
              "    <tr>\n",
              "      <th>X6</th>\n",
              "      <td>768.0</td>\n",
              "      <td>3.500000</td>\n",
              "      <td>1.118763</td>\n",
              "      <td>2.00</td>\n",
              "      <td>2.7500</td>\n",
              "      <td>3.50</td>\n",
              "      <td>4.2500</td>\n",
              "      <td>5.00</td>\n",
              "    </tr>\n",
              "    <tr>\n",
              "      <th>X7</th>\n",
              "      <td>768.0</td>\n",
              "      <td>0.234375</td>\n",
              "      <td>0.133221</td>\n",
              "      <td>0.00</td>\n",
              "      <td>0.1000</td>\n",
              "      <td>0.25</td>\n",
              "      <td>0.4000</td>\n",
              "      <td>0.40</td>\n",
              "    </tr>\n",
              "    <tr>\n",
              "      <th>X8</th>\n",
              "      <td>768.0</td>\n",
              "      <td>2.812500</td>\n",
              "      <td>1.550960</td>\n",
              "      <td>0.00</td>\n",
              "      <td>1.7500</td>\n",
              "      <td>3.00</td>\n",
              "      <td>4.0000</td>\n",
              "      <td>5.00</td>\n",
              "    </tr>\n",
              "    <tr>\n",
              "      <th>Y1</th>\n",
              "      <td>768.0</td>\n",
              "      <td>22.307201</td>\n",
              "      <td>10.090196</td>\n",
              "      <td>6.01</td>\n",
              "      <td>12.9925</td>\n",
              "      <td>18.95</td>\n",
              "      <td>31.6675</td>\n",
              "      <td>43.10</td>\n",
              "    </tr>\n",
              "    <tr>\n",
              "      <th>Y2</th>\n",
              "      <td>768.0</td>\n",
              "      <td>24.587760</td>\n",
              "      <td>9.513306</td>\n",
              "      <td>10.90</td>\n",
              "      <td>15.6200</td>\n",
              "      <td>22.08</td>\n",
              "      <td>33.1325</td>\n",
              "      <td>48.03</td>\n",
              "    </tr>\n",
              "  </tbody>\n",
              "</table>\n",
              "</div>"
            ],
            "text/plain": [
              "    count        mean        std     min       25%     50%       75%     max\n",
              "X1  768.0    0.764167   0.105777    0.62    0.6825    0.75    0.8300    0.98\n",
              "X2  768.0  671.708333  88.086116  514.50  606.3750  673.75  741.1250  808.50\n",
              "X3  768.0  318.500000  43.626481  245.00  294.0000  318.50  343.0000  416.50\n",
              "X4  768.0  176.604167  45.165950  110.25  140.8750  183.75  220.5000  220.50\n",
              "X5  768.0    5.250000   1.751140    3.50    3.5000    5.25    7.0000    7.00\n",
              "X6  768.0    3.500000   1.118763    2.00    2.7500    3.50    4.2500    5.00\n",
              "X7  768.0    0.234375   0.133221    0.00    0.1000    0.25    0.4000    0.40\n",
              "X8  768.0    2.812500   1.550960    0.00    1.7500    3.00    4.0000    5.00\n",
              "Y1  768.0   22.307201  10.090196    6.01   12.9925   18.95   31.6675   43.10\n",
              "Y2  768.0   24.587760   9.513306   10.90   15.6200   22.08   33.1325   48.03"
            ]
          },
          "execution_count": 5,
          "metadata": {},
          "output_type": "execute_result"
        }
      ],
      "source": [
        "data.describe().T"
      ]
    },
    {
      "cell_type": "code",
      "execution_count": null,
      "id": "71560150-f502-4fb4-8a78-776932f7af71",
      "metadata": {
        "id": "71560150-f502-4fb4-8a78-776932f7af71",
        "outputId": "6ec5e5ba-afbe-46fb-a02f-fb433df9ded1"
      },
      "outputs": [
        {
          "name": "stdout",
          "output_type": "stream",
          "text": [
            "<class 'pandas.core.frame.DataFrame'>\n",
            "RangeIndex: 768 entries, 0 to 767\n",
            "Data columns (total 10 columns):\n",
            " #   Column  Non-Null Count  Dtype  \n",
            "---  ------  --------------  -----  \n",
            " 0   X1      768 non-null    float64\n",
            " 1   X2      768 non-null    float64\n",
            " 2   X3      768 non-null    float64\n",
            " 3   X4      768 non-null    float64\n",
            " 4   X5      768 non-null    float64\n",
            " 5   X6      768 non-null    int64  \n",
            " 6   X7      768 non-null    float64\n",
            " 7   X8      768 non-null    int64  \n",
            " 8   Y1      768 non-null    float64\n",
            " 9   Y2      768 non-null    float64\n",
            "dtypes: float64(8), int64(2)\n",
            "memory usage: 60.1 KB\n"
          ]
        }
      ],
      "source": [
        "data.info()"
      ]
    },
    {
      "cell_type": "code",
      "execution_count": null,
      "id": "71d8497b-35ec-4d89-aa6f-4a177af041fe",
      "metadata": {
        "id": "71d8497b-35ec-4d89-aa6f-4a177af041fe",
        "outputId": "8d8411a6-5007-4f3a-83c1-98fb54e5cd52"
      },
      "outputs": [
        {
          "data": {
            "text/plain": [
              "X1    0\n",
              "X2    0\n",
              "X3    0\n",
              "X4    0\n",
              "X5    0\n",
              "X6    0\n",
              "X7    0\n",
              "X8    0\n",
              "Y1    0\n",
              "Y2    0\n",
              "dtype: int64"
            ]
          },
          "execution_count": 7,
          "metadata": {},
          "output_type": "execute_result"
        }
      ],
      "source": [
        "data.isnull().sum()"
      ]
    },
    {
      "cell_type": "code",
      "execution_count": null,
      "id": "cb1aa2ac-a1fc-4975-adac-00e79f26189b",
      "metadata": {
        "collapsed": true,
        "jupyter": {
          "outputs_hidden": true
        },
        "tags": [],
        "id": "cb1aa2ac-a1fc-4975-adac-00e79f26189b",
        "outputId": "8d9c5d77-25cb-4ca4-d317-967a103dfe1c"
      },
      "outputs": [
        {
          "name": "stdout",
          "output_type": "stream",
          "text": [
            "<bound method Series.unique of 0      0.98\n",
            "1      0.98\n",
            "2      0.98\n",
            "3      0.98\n",
            "4      0.90\n",
            "       ... \n",
            "763    0.64\n",
            "764    0.62\n",
            "765    0.62\n",
            "766    0.62\n",
            "767    0.62\n",
            "Name: X1, Length: 768, dtype: float64>\n",
            "<bound method Series.unique of 0      514.5\n",
            "1      514.5\n",
            "2      514.5\n",
            "3      514.5\n",
            "4      563.5\n",
            "       ...  \n",
            "763    784.0\n",
            "764    808.5\n",
            "765    808.5\n",
            "766    808.5\n",
            "767    808.5\n",
            "Name: X2, Length: 768, dtype: float64>\n",
            "<bound method Series.unique of 0      294.0\n",
            "1      294.0\n",
            "2      294.0\n",
            "3      294.0\n",
            "4      318.5\n",
            "       ...  \n",
            "763    343.0\n",
            "764    367.5\n",
            "765    367.5\n",
            "766    367.5\n",
            "767    367.5\n",
            "Name: X3, Length: 768, dtype: float64>\n",
            "<bound method Series.unique of 0      110.25\n",
            "1      110.25\n",
            "2      110.25\n",
            "3      110.25\n",
            "4      122.50\n",
            "        ...  \n",
            "763    220.50\n",
            "764    220.50\n",
            "765    220.50\n",
            "766    220.50\n",
            "767    220.50\n",
            "Name: X4, Length: 768, dtype: float64>\n",
            "<bound method Series.unique of 0      7.0\n",
            "1      7.0\n",
            "2      7.0\n",
            "3      7.0\n",
            "4      7.0\n",
            "      ... \n",
            "763    3.5\n",
            "764    3.5\n",
            "765    3.5\n",
            "766    3.5\n",
            "767    3.5\n",
            "Name: X5, Length: 768, dtype: float64>\n",
            "<bound method Series.unique of 0      2\n",
            "1      3\n",
            "2      4\n",
            "3      5\n",
            "4      2\n",
            "      ..\n",
            "763    5\n",
            "764    2\n",
            "765    3\n",
            "766    4\n",
            "767    5\n",
            "Name: X6, Length: 768, dtype: int64>\n",
            "<bound method Series.unique of 0      0.0\n",
            "1      0.0\n",
            "2      0.0\n",
            "3      0.0\n",
            "4      0.0\n",
            "      ... \n",
            "763    0.4\n",
            "764    0.4\n",
            "765    0.4\n",
            "766    0.4\n",
            "767    0.4\n",
            "Name: X7, Length: 768, dtype: float64>\n",
            "<bound method Series.unique of 0      0\n",
            "1      0\n",
            "2      0\n",
            "3      0\n",
            "4      0\n",
            "      ..\n",
            "763    5\n",
            "764    5\n",
            "765    5\n",
            "766    5\n",
            "767    5\n",
            "Name: X8, Length: 768, dtype: int64>\n",
            "<bound method Series.unique of 0      15.55\n",
            "1      15.55\n",
            "2      15.55\n",
            "3      15.55\n",
            "4      20.84\n",
            "       ...  \n",
            "763    17.88\n",
            "764    16.54\n",
            "765    16.44\n",
            "766    16.48\n",
            "767    16.64\n",
            "Name: Y1, Length: 768, dtype: float64>\n",
            "<bound method Series.unique of 0      21.33\n",
            "1      21.33\n",
            "2      21.33\n",
            "3      21.33\n",
            "4      28.28\n",
            "       ...  \n",
            "763    21.40\n",
            "764    16.88\n",
            "765    17.11\n",
            "766    16.61\n",
            "767    16.03\n",
            "Name: Y2, Length: 768, dtype: float64>\n"
          ]
        }
      ],
      "source": [
        "for i in range(len(data.columns)):\n",
        "    print(data[data.columns[i]].unique)"
      ]
    },
    {
      "cell_type": "markdown",
      "id": "a6b75113-45be-46d7-ad50-b1bad80399ae",
      "metadata": {
        "id": "a6b75113-45be-46d7-ad50-b1bad80399ae"
      },
      "source": [
        "### Manuel Feature Selection"
      ]
    },
    {
      "cell_type": "code",
      "execution_count": null,
      "id": "e1d174a5-2c0e-40f7-a38e-380a6f1134d8",
      "metadata": {
        "id": "e1d174a5-2c0e-40f7-a38e-380a6f1134d8"
      },
      "outputs": [],
      "source": [
        "import seaborn as sns\n",
        "import matplotlib.pyplot as plt"
      ]
    },
    {
      "cell_type": "code",
      "execution_count": null,
      "id": "bb2a07b5-d683-4c30-81a3-101021bdbc59",
      "metadata": {
        "id": "bb2a07b5-d683-4c30-81a3-101021bdbc59",
        "outputId": "63539a58-5943-40d9-8959-7b766e68a350"
      },
      "outputs": [
        {
          "data": {
            "image/png": "[encoded data removed]",
            "text/plain": [
              "<Figure size 720x720 with 2 Axes>"
            ]
          },
          "metadata": {
            "needs_background": "light"
          },
          "output_type": "display_data"
        }
      ],
      "source": [
        "plt.figure(figsize=(10,10))\n",
        "sns.heatmap(data.corr(),annot=True)\n",
        "plt.show()"
      ]
    },
    {
      "cell_type": "code",
      "execution_count": null,
      "id": "0da4fcaf-a6a6-4339-a507-5095732e7744",
      "metadata": {
        "id": "0da4fcaf-a6a6-4339-a507-5095732e7744",
        "outputId": "43cddef9-a74d-46c5-d6a8-597bf633167a"
      },
      "outputs": [
        {
          "data": {
            "text/plain": [
              "X1    0.622272\n",
              "X2    0.658120\n",
              "X3    0.455671\n",
              "X4    0.861828\n",
              "X5    0.889431\n",
              "Y1    1.000000\n",
              "Y2    0.975862\n",
              "Name: Y1, dtype: float64"
            ]
          },
          "execution_count": 11,
          "metadata": {},
          "output_type": "execute_result"
        }
      ],
      "source": [
        "cor_target = abs(data.corr()[\"Y1\"])\n",
        "relevant_features = cor_target[cor_target>0.3]\n",
        "relevant_features"
      ]
    },
    {
      "cell_type": "markdown",
      "id": "c3c77663-4bb7-47ee-9fc0-a27fa279f2a8",
      "metadata": {
        "id": "c3c77663-4bb7-47ee-9fc0-a27fa279f2a8"
      },
      "source": [
        "### Test/Train Split"
      ]
    },
    {
      "cell_type": "code",
      "execution_count": null,
      "id": "fbaf7f33-3f2d-4622-82ef-d9049e669fa1",
      "metadata": {
        "id": "fbaf7f33-3f2d-4622-82ef-d9049e669fa1"
      },
      "outputs": [],
      "source": [
        "y=data[\"Y1\"]"
      ]
    },
    {
      "cell_type": "code",
      "execution_count": null,
      "id": "2c7b69d8-cef5-4419-9bca-d54090278fe2",
      "metadata": {
        "id": "2c7b69d8-cef5-4419-9bca-d54090278fe2"
      },
      "outputs": [],
      "source": [
        "X=data.drop([\"Y1\",\"Y2\"],axis=1)"
      ]
    },
    {
      "cell_type": "code",
      "execution_count": null,
      "id": "a722d6f4-f9bd-41f7-b7ab-c07bc80ce1d2",
      "metadata": {
        "id": "a722d6f4-f9bd-41f7-b7ab-c07bc80ce1d2",
        "outputId": "f24c6579-b98e-41ac-a21c-0f1cf2a81ee4"
      },
      "outputs": [
        {
          "data": {
            "text/plain": [
              "0      15.55\n",
              "1      15.55\n",
              "2      15.55\n",
              "3      15.55\n",
              "4      20.84\n",
              "       ...  \n",
              "763    17.88\n",
              "764    16.54\n",
              "765    16.44\n",
              "766    16.48\n",
              "767    16.64\n",
              "Name: Y1, Length: 768, dtype: float64"
            ]
          },
          "execution_count": 14,
          "metadata": {},
          "output_type": "execute_result"
        }
      ],
      "source": [
        "y"
      ]
    },
    {
      "cell_type": "code",
      "execution_count": null,
      "id": "3a414907-32d3-40d1-8cea-2d1c54121bc7",
      "metadata": {
        "id": "3a414907-32d3-40d1-8cea-2d1c54121bc7",
        "outputId": "cae035c5-aa24-463b-917f-9c540b88318f"
      },
      "outputs": [
        {
          "data": {
            "text/html": [
              "<div>\n",
              "<style scoped>\n",
              "    .dataframe tbody tr th:only-of-type {\n",
              "        vertical-align: middle;\n",
              "    }\n",
              "\n",
              "    .dataframe tbody tr th {\n",
              "        vertical-align: top;\n",
              "    }\n",
              "\n",
              "    .dataframe thead th {\n",
              "        text-align: right;\n",
              "    }\n",
              "</style>\n",
              "<table border=\"1\" class=\"dataframe\">\n",
              "  <thead>\n",
              "    <tr style=\"text-align: right;\">\n",
              "      <th></th>\n",
              "      <th>X1</th>\n",
              "      <th>X2</th>\n",
              "      <th>X3</th>\n",
              "      <th>X4</th>\n",
              "      <th>X5</th>\n",
              "      <th>X6</th>\n",
              "      <th>X7</th>\n",
              "      <th>X8</th>\n",
              "    </tr>\n",
              "  </thead>\n",
              "  <tbody>\n",
              "    <tr>\n",
              "      <th>0</th>\n",
              "      <td>0.98</td>\n",
              "      <td>514.5</td>\n",
              "      <td>294.0</td>\n",
              "      <td>110.25</td>\n",
              "      <td>7.0</td>\n",
              "      <td>2</td>\n",
              "      <td>0.0</td>\n",
              "      <td>0</td>\n",
              "    </tr>\n",
              "    <tr>\n",
              "      <th>1</th>\n",
              "      <td>0.98</td>\n",
              "      <td>514.5</td>\n",
              "      <td>294.0</td>\n",
              "      <td>110.25</td>\n",
              "      <td>7.0</td>\n",
              "      <td>3</td>\n",
              "      <td>0.0</td>\n",
              "      <td>0</td>\n",
              "    </tr>\n",
              "    <tr>\n",
              "      <th>2</th>\n",
              "      <td>0.98</td>\n",
              "      <td>514.5</td>\n",
              "      <td>294.0</td>\n",
              "      <td>110.25</td>\n",
              "      <td>7.0</td>\n",
              "      <td>4</td>\n",
              "      <td>0.0</td>\n",
              "      <td>0</td>\n",
              "    </tr>\n",
              "    <tr>\n",
              "      <th>3</th>\n",
              "      <td>0.98</td>\n",
              "      <td>514.5</td>\n",
              "      <td>294.0</td>\n",
              "      <td>110.25</td>\n",
              "      <td>7.0</td>\n",
              "      <td>5</td>\n",
              "      <td>0.0</td>\n",
              "      <td>0</td>\n",
              "    </tr>\n",
              "    <tr>\n",
              "      <th>4</th>\n",
              "      <td>0.90</td>\n",
              "      <td>563.5</td>\n",
              "      <td>318.5</td>\n",
              "      <td>122.50</td>\n",
              "      <td>7.0</td>\n",
              "      <td>2</td>\n",
              "      <td>0.0</td>\n",
              "      <td>0</td>\n",
              "    </tr>\n",
              "    <tr>\n",
              "      <th>...</th>\n",
              "      <td>...</td>\n",
              "      <td>...</td>\n",
              "      <td>...</td>\n",
              "      <td>...</td>\n",
              "      <td>...</td>\n",
              "      <td>...</td>\n",
              "      <td>...</td>\n",
              "      <td>...</td>\n",
              "    </tr>\n",
              "    <tr>\n",
              "      <th>763</th>\n",
              "      <td>0.64</td>\n",
              "      <td>784.0</td>\n",
              "      <td>343.0</td>\n",
              "      <td>220.50</td>\n",
              "      <td>3.5</td>\n",
              "      <td>5</td>\n",
              "      <td>0.4</td>\n",
              "      <td>5</td>\n",
              "    </tr>\n",
              "    <tr>\n",
              "      <th>764</th>\n",
              "      <td>0.62</td>\n",
              "      <td>808.5</td>\n",
              "      <td>367.5</td>\n",
              "      <td>220.50</td>\n",
              "      <td>3.5</td>\n",
              "      <td>2</td>\n",
              "      <td>0.4</td>\n",
              "      <td>5</td>\n",
              "    </tr>\n",
              "    <tr>\n",
              "      <th>765</th>\n",
              "      <td>0.62</td>\n",
              "      <td>808.5</td>\n",
              "      <td>367.5</td>\n",
              "      <td>220.50</td>\n",
              "      <td>3.5</td>\n",
              "      <td>3</td>\n",
              "      <td>0.4</td>\n",
              "      <td>5</td>\n",
              "    </tr>\n",
              "    <tr>\n",
              "      <th>766</th>\n",
              "      <td>0.62</td>\n",
              "      <td>808.5</td>\n",
              "      <td>367.5</td>\n",
              "      <td>220.50</td>\n",
              "      <td>3.5</td>\n",
              "      <td>4</td>\n",
              "      <td>0.4</td>\n",
              "      <td>5</td>\n",
              "    </tr>\n",
              "    <tr>\n",
              "      <th>767</th>\n",
              "      <td>0.62</td>\n",
              "      <td>808.5</td>\n",
              "      <td>367.5</td>\n",
              "      <td>220.50</td>\n",
              "      <td>3.5</td>\n",
              "      <td>5</td>\n",
              "      <td>0.4</td>\n",
              "      <td>5</td>\n",
              "    </tr>\n",
              "  </tbody>\n",
              "</table>\n",
              "<p>768 rows × 8 columns</p>\n",
              "</div>"
            ],
            "text/plain": [
              "       X1     X2     X3      X4   X5  X6   X7  X8\n",
              "0    0.98  514.5  294.0  110.25  7.0   2  0.0   0\n",
              "1    0.98  514.5  294.0  110.25  7.0   3  0.0   0\n",
              "2    0.98  514.5  294.0  110.25  7.0   4  0.0   0\n",
              "3    0.98  514.5  294.0  110.25  7.0   5  0.0   0\n",
              "4    0.90  563.5  318.5  122.50  7.0   2  0.0   0\n",
              "..    ...    ...    ...     ...  ...  ..  ...  ..\n",
              "763  0.64  784.0  343.0  220.50  3.5   5  0.4   5\n",
              "764  0.62  808.5  367.5  220.50  3.5   2  0.4   5\n",
              "765  0.62  808.5  367.5  220.50  3.5   3  0.4   5\n",
              "766  0.62  808.5  367.5  220.50  3.5   4  0.4   5\n",
              "767  0.62  808.5  367.5  220.50  3.5   5  0.4   5\n",
              "\n",
              "[768 rows x 8 columns]"
            ]
          },
          "execution_count": 15,
          "metadata": {},
          "output_type": "execute_result"
        }
      ],
      "source": [
        "X"
      ]
    },
    {
      "cell_type": "code",
      "execution_count": null,
      "id": "18948373-cb3b-4750-a621-fa7d44224d54",
      "metadata": {
        "id": "18948373-cb3b-4750-a621-fa7d44224d54"
      },
      "outputs": [],
      "source": [
        "from sklearn.model_selection import train_test_split"
      ]
    },
    {
      "cell_type": "code",
      "execution_count": null,
      "id": "0c0f281d-77af-4cc9-bfa5-f5db96141a62",
      "metadata": {
        "id": "0c0f281d-77af-4cc9-bfa5-f5db96141a62"
      },
      "outputs": [],
      "source": [
        "X_train,X_test,y_train,y_test = train_test_split(X,y,test_size=0.25,random_state=41)"
      ]
    },
    {
      "cell_type": "markdown",
      "id": "25d733ac-93a8-4203-b3ab-7648a7ea046c",
      "metadata": {
        "id": "25d733ac-93a8-4203-b3ab-7648a7ea046c"
      },
      "source": [
        "### SequentialFeatureSelector"
      ]
    },
    {
      "cell_type": "raw",
      "id": "f9e8bfae-5831-4bb1-aa3e-5c96b431d797",
      "metadata": {
        "id": "f9e8bfae-5831-4bb1-aa3e-5c96b431d797"
      },
      "source": [
        "https://scikit-learn.org/stable/modules/generated/sklearn.feature_selection.SequentialFeatureSelector.html#sklearn.feature_selection.SequentialFeatureSelector"
      ]
    },
    {
      "cell_type": "code",
      "execution_count": null,
      "id": "f674acf6-cc0b-4641-9c66-88071774e25b",
      "metadata": {
        "id": "f674acf6-cc0b-4641-9c66-88071774e25b"
      },
      "outputs": [],
      "source": [
        "from sklearn.feature_selection import SequentialFeatureSelector as SFS\n",
        "from sklearn.ensemble import RandomForestRegressor\n",
        "import numpy as np"
      ]
    },
    {
      "cell_type": "code",
      "execution_count": null,
      "id": "c8aa2590-2b2d-4086-a199-d77a40928ecd",
      "metadata": {
        "id": "c8aa2590-2b2d-4086-a199-d77a40928ecd"
      },
      "outputs": [],
      "source": [
        "model_sfs=SFS(RandomForestRegressor(n_estimators=10,random_state=10,verbose=2),\n",
        "            direction='forward',\n",
        "            scoring='r2',\n",
        "            cv=5\n",
        "             )"
      ]
    },
    {
      "cell_type": "code",
      "execution_count": null,
      "id": "e727e2d3-09ab-45f6-ac50-6930bac7d23d",
      "metadata": {
        "collapsed": true,
        "jupyter": {
          "outputs_hidden": true
        },
        "tags": [],
        "id": "e727e2d3-09ab-45f6-ac50-6930bac7d23d"
      },
      "outputs": [],
      "source": [
        "sfs=model_sfs.fit(X_train,y_train)"
      ]
    },
    {
      "cell_type": "code",
      "execution_count": null,
      "id": "40117d02-ae77-46a4-bead-694936edf688",
      "metadata": {
        "id": "40117d02-ae77-46a4-bead-694936edf688",
        "outputId": "c0e234cf-705c-4b05-e0d3-4bff3193f5b9"
      },
      "outputs": [
        {
          "data": {
            "text/plain": [
              "array([ True, False,  True,  True, False, False,  True, False])"
            ]
          },
          "execution_count": 21,
          "metadata": {},
          "output_type": "execute_result"
        }
      ],
      "source": [
        "sfs.get_support()"
      ]
    },
    {
      "cell_type": "code",
      "execution_count": null,
      "id": "8ac78432-324f-46f2-b560-7cef1b78449c",
      "metadata": {
        "id": "8ac78432-324f-46f2-b560-7cef1b78449c",
        "outputId": "f4a92d73-5f92-4bf2-bbf9-96c51731f8af"
      },
      "outputs": [
        {
          "data": {
            "text/plain": [
              "4"
            ]
          },
          "execution_count": 22,
          "metadata": {},
          "output_type": "execute_result"
        }
      ],
      "source": [
        "sfs.n_features_to_select_"
      ]
    },
    {
      "cell_type": "markdown",
      "id": "9dbc1d21-f253-4f0d-b48c-bd066d6bb51b",
      "metadata": {
        "id": "9dbc1d21-f253-4f0d-b48c-bd066d6bb51b"
      },
      "source": [
        "#### FORWARD"
      ]
    },
    {
      "cell_type": "code",
      "execution_count": null,
      "id": "9b9f1d5a-9833-4005-b733-ad211e8764b4",
      "metadata": {
        "id": "9b9f1d5a-9833-4005-b733-ad211e8764b4"
      },
      "outputs": [],
      "source": [
        "from mlxtend.feature_selection import SequentialFeatureSelector as SFS"
      ]
    },
    {
      "cell_type": "code",
      "execution_count": null,
      "id": "a7da503c-5ecd-4615-97ea-18d02853fa83",
      "metadata": {
        "id": "a7da503c-5ecd-4615-97ea-18d02853fa83"
      },
      "outputs": [],
      "source": [
        "sfs_m =SFS(RandomForestRegressor(n_estimators=10,random_state=10),\n",
        "            k_features=8,\n",
        "            forward=True,\n",
        "            floating=False,\n",
        "            verbose=2,\n",
        "            scoring='r2',\n",
        "            cv=5\n",
        "             )"
      ]
    },
    {
      "cell_type": "code",
      "execution_count": null,
      "id": "9096ea60-87b9-43d6-81a1-a7b423fc8f50",
      "metadata": {
        "collapsed": true,
        "jupyter": {
          "outputs_hidden": true
        },
        "tags": [],
        "id": "9096ea60-87b9-43d6-81a1-a7b423fc8f50",
        "outputId": "bccde875-ad52-4a84-96e6-7231aa11d4f1"
      },
      "outputs": [
        {
          "name": "stderr",
          "output_type": "stream",
          "text": [
            "[Parallel(n_jobs=1)]: Using backend SequentialBackend with 1 concurrent workers.\n",
            "[Parallel(n_jobs=1)]: Done   1 out of   1 | elapsed:    0.0s remaining:    0.0s\n",
            "[Parallel(n_jobs=1)]: Done   8 out of   8 | elapsed:    0.7s finished\n",
            "\n",
            "[2022-02-14 17:42:07] Features: 1/8 -- score: 0.9060253250870659[Parallel(n_jobs=1)]: Using backend SequentialBackend with 1 concurrent workers.\n",
            "[Parallel(n_jobs=1)]: Done   1 out of   1 | elapsed:    0.0s remaining:    0.0s\n",
            "[Parallel(n_jobs=1)]: Done   7 out of   7 | elapsed:    0.3s finished\n",
            "\n",
            "[2022-02-14 17:42:07] Features: 2/8 -- score: 0.9971872038735731[Parallel(n_jobs=1)]: Using backend SequentialBackend with 1 concurrent workers.\n",
            "[Parallel(n_jobs=1)]: Done   1 out of   1 | elapsed:    0.0s remaining:    0.0s\n",
            "[Parallel(n_jobs=1)]: Done   6 out of   6 | elapsed:    0.4s finished\n",
            "\n",
            "[2022-02-14 17:42:07] Features: 3/8 -- score: 0.9971922703443079[Parallel(n_jobs=1)]: Using backend SequentialBackend with 1 concurrent workers.\n",
            "[Parallel(n_jobs=1)]: Done   1 out of   1 | elapsed:    0.0s remaining:    0.0s\n",
            "[Parallel(n_jobs=1)]: Done   5 out of   5 | elapsed:    0.2s finished\n",
            "\n",
            "[2022-02-14 17:42:08] Features: 4/8 -- score: 0.9971927813842939[Parallel(n_jobs=1)]: Using backend SequentialBackend with 1 concurrent workers.\n",
            "[Parallel(n_jobs=1)]: Done   1 out of   1 | elapsed:    0.0s remaining:    0.0s\n",
            "[Parallel(n_jobs=1)]: Done   4 out of   4 | elapsed:    0.1s finished\n",
            "\n",
            "[2022-02-14 17:42:08] Features: 5/8 -- score: 0.9971912207449053[Parallel(n_jobs=1)]: Using backend SequentialBackend with 1 concurrent workers.\n",
            "[Parallel(n_jobs=1)]: Done   1 out of   1 | elapsed:    0.0s remaining:    0.0s\n",
            "[Parallel(n_jobs=1)]: Done   3 out of   3 | elapsed:    0.1s finished\n",
            "\n",
            "[2022-02-14 17:42:08] Features: 6/8 -- score: 0.9971753554031375[Parallel(n_jobs=1)]: Using backend SequentialBackend with 1 concurrent workers.\n",
            "[Parallel(n_jobs=1)]: Done   1 out of   1 | elapsed:    0.0s remaining:    0.0s\n",
            "[Parallel(n_jobs=1)]: Done   2 out of   2 | elapsed:    0.0s finished\n",
            "\n",
            "[2022-02-14 17:42:08] Features: 7/8 -- score: 0.9970248848041734[Parallel(n_jobs=1)]: Using backend SequentialBackend with 1 concurrent workers.\n",
            "[Parallel(n_jobs=1)]: Done   1 out of   1 | elapsed:    0.0s remaining:    0.0s\n",
            "[Parallel(n_jobs=1)]: Done   1 out of   1 | elapsed:    0.0s finished\n",
            "\n",
            "[2022-02-14 17:42:08] Features: 8/8 -- score: 0.9969114380647962"
          ]
        }
      ],
      "source": [
        "sfs_m = sfs_m.fit(X_train,y_train)"
      ]
    },
    {
      "cell_type": "code",
      "execution_count": null,
      "id": "f28e8685-e63c-4e65-a3f1-9c9aa1b78438",
      "metadata": {
        "id": "f28e8685-e63c-4e65-a3f1-9c9aa1b78438",
        "outputId": "742aacba-2d37-4d1e-e4b5-cf848fc69796"
      },
      "outputs": [
        {
          "data": {
            "image/png": "[encoded data removed]",
            "text/plain": [
              "<Figure size 432x288 with 1 Axes>"
            ]
          },
          "metadata": {
            "needs_background": "light"
          },
          "output_type": "display_data"
        }
      ],
      "source": [
        "from mlxtend.plotting import plot_sequential_feature_selection as plot_sfs\n",
        "import matplotlib.pyplot as plt\n",
        "fig1=plot_sfs(sfs_m.get_metric_dict(),kind='std_dev')\n",
        "plt.ylim([0.8,1])\n",
        "plt.title(\"SFS\")\n",
        "plt.grid()\n",
        "plt.show()"
      ]
    },
    {
      "cell_type": "code",
      "execution_count": null,
      "id": "66291a4a-d4ad-445e-9b37-2516ee3b0dcd",
      "metadata": {
        "id": "66291a4a-d4ad-445e-9b37-2516ee3b0dcd",
        "outputId": "b86dcbfa-08ea-4442-a2c4-aae00dbf8592"
      },
      "outputs": [
        {
          "data": {
            "text/plain": [
              "{1: {'feature_idx': (0,),\n",
              "  'cv_scores': array([0.91394108, 0.90918803, 0.90458875, 0.90649625, 0.89591252]),\n",
              "  'avg_score': 0.9060253250870659,\n",
              "  'feature_names': ('X1',)},\n",
              " 2: {'feature_idx': (0, 6),\n",
              "  'cv_scores': array([0.99730941, 0.99784132, 0.99783452, 0.99663962, 0.99631114]),\n",
              "  'avg_score': 0.9971872038735731,\n",
              "  'feature_names': ('X1', 'X7')},\n",
              " 3: {'feature_idx': (0, 3, 6),\n",
              "  'cv_scores': array([0.99730941, 0.99786665, 0.99783452, 0.99663962, 0.99631114]),\n",
              "  'avg_score': 0.9971922703443079,\n",
              "  'feature_names': ('X1', 'X4', 'X7')},\n",
              " 4: {'feature_idx': (0, 2, 3, 6),\n",
              "  'cv_scores': array([0.99730964, 0.99785165, 0.99785185, 0.99663962, 0.99631114]),\n",
              "  'avg_score': 0.9971927813842939,\n",
              "  'feature_names': ('X1', 'X3', 'X4', 'X7')},\n",
              " 5: {'feature_idx': (0, 1, 2, 3, 6),\n",
              "  'cv_scores': array([0.99730964, 0.99786935, 0.99784629, 0.99661968, 0.99631114]),\n",
              "  'avg_score': 0.9971912207449053,\n",
              "  'feature_names': ('X1', 'X2', 'X3', 'X4', 'X7')},\n",
              " 6: {'feature_idx': (0, 1, 2, 3, 4, 6),\n",
              "  'cv_scores': array([0.99730941, 0.99781054, 0.99783746, 0.99661968, 0.99629969]),\n",
              "  'avg_score': 0.9971753554031375,\n",
              "  'feature_names': ('X1', 'X2', 'X3', 'X4', 'X5', 'X7')},\n",
              " 7: {'feature_idx': (0, 1, 2, 3, 4, 6, 7),\n",
              "  'cv_scores': array([0.99729129, 0.99783618, 0.99791276, 0.99626583, 0.99581836]),\n",
              "  'avg_score': 0.9970248848041734,\n",
              "  'feature_names': ('X1', 'X2', 'X3', 'X4', 'X5', 'X7', 'X8')},\n",
              " 8: {'feature_idx': (0, 1, 2, 3, 4, 5, 6, 7),\n",
              "  'cv_scores': array([0.99713193, 0.99736564, 0.99800626, 0.99631245, 0.9957409 ]),\n",
              "  'avg_score': 0.9969114380647962,\n",
              "  'feature_names': ('X1', 'X2', 'X3', 'X4', 'X5', 'X6', 'X7', 'X8')}}"
            ]
          },
          "execution_count": 27,
          "metadata": {},
          "output_type": "execute_result"
        }
      ],
      "source": [
        "sfs_m.subsets_"
      ]
    },
    {
      "cell_type": "code",
      "execution_count": null,
      "id": "770747bc-fe82-44d7-886e-77da179bdb04",
      "metadata": {
        "id": "770747bc-fe82-44d7-886e-77da179bdb04",
        "outputId": "247b552c-ec07-4f38-c4ba-048a031bd084"
      },
      "outputs": [
        {
          "data": {
            "text/plain": [
              "['X1', 'X3', 'X4', 'X7']"
            ]
          },
          "execution_count": 28,
          "metadata": {},
          "output_type": "execute_result"
        }
      ],
      "source": [
        "selected_feat=list(sfs_m.subsets_[4][\"feature_names\"])\n",
        "selected_feat"
      ]
    },
    {
      "cell_type": "code",
      "execution_count": null,
      "id": "a4ac3118-8902-4e26-974d-ccda9fcf478d",
      "metadata": {
        "id": "a4ac3118-8902-4e26-974d-ccda9fcf478d"
      },
      "outputs": [],
      "source": [
        "from sklearn.metrics import roc_auc_score,r2_score"
      ]
    },
    {
      "cell_type": "code",
      "execution_count": null,
      "id": "458b902d-64b2-471c-bc2f-41cccd9bc71a",
      "metadata": {
        "id": "458b902d-64b2-471c-bc2f-41cccd9bc71a",
        "outputId": "db404232-7837-45e6-c440-6b08e306f05f"
      },
      "outputs": [
        {
          "data": {
            "text/plain": [
              "RandomForestRegressor(max_depth=4, random_state=40)"
            ]
          },
          "execution_count": 30,
          "metadata": {},
          "output_type": "execute_result"
        }
      ],
      "source": [
        "rf=RandomForestRegressor(n_estimators=100,random_state=40,max_depth=4)\n",
        "rf.fit(X_train[selected_feat],y_train)"
      ]
    },
    {
      "cell_type": "code",
      "execution_count": null,
      "id": "3c07d1a6-526a-4626-a63b-154ff87b3ed6",
      "metadata": {
        "id": "3c07d1a6-526a-4626-a63b-154ff87b3ed6",
        "outputId": "4c793df7-1cb6-4d2e-ff23-830e83ea6aae"
      },
      "outputs": [
        {
          "name": "stdout",
          "output_type": "stream",
          "text": [
            "Train Set\n",
            "Random Forest Roc_auc= 0.9812045478732558\n",
            "Test Set\n",
            "Random Forest Roc_auc= 0.9843604863285658\n"
          ]
        }
      ],
      "source": [
        "print('Train Set')\n",
        "pred = rf.predict(X_train[selected_feat])\n",
        "print(\"Random Forest Roc_auc= {}\".format(r2_score(y_train,pred)))\n",
        "\n",
        "print('Test Set')\n",
        "pred = rf.predict(X_test[selected_feat])\n",
        "print(\"Random Forest Roc_auc= {}\".format(r2_score(y_test,pred)))"
      ]
    },
    {
      "cell_type": "code",
      "execution_count": null,
      "id": "72c6a845-4c20-4dcf-84b5-62ebb47492ba",
      "metadata": {
        "id": "72c6a845-4c20-4dcf-84b5-62ebb47492ba",
        "outputId": "15d7cf99-7ea4-4941-c2a0-7442595c7fa4"
      },
      "outputs": [
        {
          "name": "stdout",
          "output_type": "stream",
          "text": [
            "Train Set\n",
            "Random Forest Roc_auc= 0.9811933882202599\n",
            "Test Set\n",
            "Random Forest Roc_auc= 0.9843311964475507\n"
          ]
        }
      ],
      "source": [
        "rf_all=RandomForestRegressor(n_estimators=100,random_state=40,max_depth=4)\n",
        "rf_all.fit(X_train,y_train)\n",
        "\n",
        "print('Train Set')\n",
        "pred = rf_all.predict(X_train)\n",
        "print(\"Random Forest Roc_auc= {}\".format(r2_score(y_train,pred)))\n",
        "\n",
        "print('Test Set')\n",
        "pred = rf_all.predict(X_test)\n",
        "print(\"Random Forest Roc_auc= {}\".format(r2_score(y_test,pred)))"
      ]
    },
    {
      "cell_type": "markdown",
      "id": "9ca46622-bd11-4cc8-9434-ccec84e8b855",
      "metadata": {
        "id": "9ca46622-bd11-4cc8-9434-ccec84e8b855"
      },
      "source": [
        "#### BACKWARD"
      ]
    },
    {
      "cell_type": "code",
      "execution_count": null,
      "id": "51a2ef64-86dc-43d8-b9a8-6e4526b8673c",
      "metadata": {
        "id": "51a2ef64-86dc-43d8-b9a8-6e4526b8673c"
      },
      "outputs": [],
      "source": [
        "back_sfs =SFS(RandomForestRegressor(n_estimators=10,random_state=10),\n",
        "            k_features=5,\n",
        "            forward=False,\n",
        "            floating=False,\n",
        "            verbose=2,\n",
        "            scoring='r2',\n",
        "            cv=5\n",
        "             )"
      ]
    },
    {
      "cell_type": "code",
      "execution_count": null,
      "id": "2ebff2b8-54ce-41d9-b78a-2b00deeb8119",
      "metadata": {
        "id": "2ebff2b8-54ce-41d9-b78a-2b00deeb8119",
        "outputId": "26334fdd-2f91-48b1-d6f1-49d24933e4d2"
      },
      "outputs": [
        {
          "name": "stderr",
          "output_type": "stream",
          "text": [
            "[Parallel(n_jobs=1)]: Using backend SequentialBackend with 1 concurrent workers.\n",
            "[Parallel(n_jobs=1)]: Done   1 out of   1 | elapsed:    0.0s remaining:    0.0s\n",
            "[Parallel(n_jobs=1)]: Done   8 out of   8 | elapsed:    0.4s finished\n",
            "\n",
            "[2022-02-14 17:48:55] Features: 7/5 -- score: 0.9970248848041734[Parallel(n_jobs=1)]: Using backend SequentialBackend with 1 concurrent workers.\n",
            "[Parallel(n_jobs=1)]: Done   1 out of   1 | elapsed:    0.0s remaining:    0.0s\n",
            "[Parallel(n_jobs=1)]: Done   7 out of   7 | elapsed:    0.4s finished\n",
            "\n",
            "[2022-02-14 17:48:56] Features: 6/5 -- score: 0.9971753554031375[Parallel(n_jobs=1)]: Using backend SequentialBackend with 1 concurrent workers.\n",
            "[Parallel(n_jobs=1)]: Done   1 out of   1 | elapsed:    0.0s remaining:    0.0s\n",
            "[Parallel(n_jobs=1)]: Done   6 out of   6 | elapsed:    0.2s finished\n",
            "\n",
            "[2022-02-14 17:48:56] Features: 5/5 -- score: 0.9971912207449053"
          ]
        }
      ],
      "source": [
        "back_sfs = back_sfs.fit(X_train,y_train)"
      ]
    },
    {
      "cell_type": "code",
      "execution_count": null,
      "id": "d70b676c-06a2-42a8-a095-e8d963367c10",
      "metadata": {
        "id": "d70b676c-06a2-42a8-a095-e8d963367c10",
        "outputId": "af5f3395-ef6c-47be-acb4-7028be772b49"
      },
      "outputs": [
        {
          "data": {
            "text/plain": [
              "{8: {'feature_idx': (0, 1, 2, 3, 4, 5, 6, 7),\n",
              "  'cv_scores': array([0.99713193, 0.99736564, 0.99800626, 0.99631245, 0.9957409 ]),\n",
              "  'avg_score': 0.9969114380647962,\n",
              "  'feature_names': ('X1', 'X2', 'X3', 'X4', 'X5', 'X6', 'X7', 'X8')},\n",
              " 7: {'feature_idx': (0, 1, 2, 3, 4, 6, 7),\n",
              "  'cv_scores': array([0.99729129, 0.99783618, 0.99791276, 0.99626583, 0.99581836]),\n",
              "  'avg_score': 0.9970248848041734,\n",
              "  'feature_names': ('X1', 'X2', 'X3', 'X4', 'X5', 'X7', 'X8')},\n",
              " 6: {'feature_idx': (0, 1, 2, 3, 4, 6),\n",
              "  'cv_scores': array([0.99730941, 0.99781054, 0.99783746, 0.99661968, 0.99629969]),\n",
              "  'avg_score': 0.9971753554031375,\n",
              "  'feature_names': ('X1', 'X2', 'X3', 'X4', 'X5', 'X7')},\n",
              " 5: {'feature_idx': (0, 1, 2, 3, 6),\n",
              "  'cv_scores': array([0.99730964, 0.99786935, 0.99784629, 0.99661968, 0.99631114]),\n",
              "  'avg_score': 0.9971912207449053,\n",
              "  'feature_names': ('X1', 'X2', 'X3', 'X4', 'X7')}}"
            ]
          },
          "execution_count": 45,
          "metadata": {},
          "output_type": "execute_result"
        }
      ],
      "source": [
        "back_sfs.subsets_"
      ]
    },
    {
      "cell_type": "code",
      "execution_count": null,
      "id": "f2d05a2e-80fd-4bd1-9cb2-012786e78c02",
      "metadata": {
        "id": "f2d05a2e-80fd-4bd1-9cb2-012786e78c02",
        "outputId": "5283767e-4e92-44c2-aca5-4e415860e8b6"
      },
      "outputs": [
        {
          "data": {
            "image/png": "[encoded data removed]",
            "text/plain": [
              "<Figure size 432x288 with 1 Axes>"
            ]
          },
          "metadata": {
            "needs_background": "light"
          },
          "output_type": "display_data"
        }
      ],
      "source": [
        "from mlxtend.plotting import plot_sequential_feature_selection as plot_sfs\n",
        "import matplotlib.pyplot as plt\n",
        "fig1=plot_sfs(back_sfs.get_metric_dict(),kind='std_dev')\n",
        "plt.ylim([0.8,1])\n",
        "plt.title(\"SFS\")\n",
        "plt.grid()\n",
        "plt.show()"
      ]
    },
    {
      "cell_type": "code",
      "execution_count": null,
      "id": "0d48095e-b6e2-4ec0-bc8f-c4cc520444fb",
      "metadata": {
        "id": "0d48095e-b6e2-4ec0-bc8f-c4cc520444fb",
        "outputId": "2c7d3bd3-42ce-4d1c-bcd9-d172014db4e4"
      },
      "outputs": [
        {
          "data": {
            "text/plain": [
              "['X1', 'X2', 'X3', 'X4', 'X7']"
            ]
          },
          "execution_count": 47,
          "metadata": {},
          "output_type": "execute_result"
        }
      ],
      "source": [
        "back_selected_feat=list(back_sfs.subsets_[5][\"feature_names\"])\n",
        "back_selected_feat"
      ]
    },
    {
      "cell_type": "markdown",
      "id": "cb9a1e55-91ec-495f-8af7-cc05951ad131",
      "metadata": {
        "id": "cb9a1e55-91ec-495f-8af7-cc05951ad131"
      },
      "source": [
        "### ExhaustivFeatureSelection"
      ]
    },
    {
      "cell_type": "code",
      "execution_count": null,
      "id": "d3482c6f-a424-41b3-80e7-1b1bbfe98001",
      "metadata": {
        "id": "d3482c6f-a424-41b3-80e7-1b1bbfe98001"
      },
      "outputs": [],
      "source": [
        "from mlxtend.feature_selection import ExhaustiveFeatureSelector as EFS"
      ]
    },
    {
      "cell_type": "code",
      "execution_count": null,
      "id": "14303046-918a-4780-92f9-8d98a0807d11",
      "metadata": {
        "id": "14303046-918a-4780-92f9-8d98a0807d11"
      },
      "outputs": [],
      "source": [
        "efs =EFS(RandomForestRegressor(n_estimators=10,random_state=10,max_depth=2),\n",
        "            min_features=1,\n",
        "            max_features=5,\n",
        "            scoring='r2',\n",
        "            print_progress=True,\n",
        "            cv=3\n",
        "             )"
      ]
    },
    {
      "cell_type": "code",
      "execution_count": null,
      "id": "6de1e905-a27d-42f0-8511-d5bd84fbeebe",
      "metadata": {
        "id": "6de1e905-a27d-42f0-8511-d5bd84fbeebe",
        "outputId": "01071fda-a42d-486e-bb89-15614b3b9dcb"
      },
      "outputs": [
        {
          "name": "stderr",
          "output_type": "stream",
          "text": [
            "Features: 218/218"
          ]
        }
      ],
      "source": [
        "efs = efs.fit(X_train,y_train)"
      ]
    },
    {
      "cell_type": "code",
      "execution_count": null,
      "id": "b2c51f82-5c6a-4953-8dfd-2ae1270390d8",
      "metadata": {
        "id": "b2c51f82-5c6a-4953-8dfd-2ae1270390d8"
      },
      "outputs": [],
      "source": [
        "selected_feat= X_train.columns[list(efs.best_idx_)]"
      ]
    },
    {
      "cell_type": "code",
      "execution_count": null,
      "id": "2292294e-8615-4e8b-8677-d825925da84e",
      "metadata": {
        "id": "2292294e-8615-4e8b-8677-d825925da84e",
        "outputId": "1a484454-1c54-4277-9ba7-0e6e6997b8f6"
      },
      "outputs": [
        {
          "data": {
            "text/plain": [
              "Index(['X1', 'X7'], dtype='object')"
            ]
          },
          "execution_count": 60,
          "metadata": {},
          "output_type": "execute_result"
        }
      ],
      "source": [
        "selected_feat"
      ]
    },
    {
      "cell_type": "code",
      "execution_count": null,
      "id": "43891759-c351-474a-bbcb-7cbad501bb69",
      "metadata": {
        "id": "43891759-c351-474a-bbcb-7cbad501bb69",
        "outputId": "ef99c164-fb13-4476-dc8c-70016b911be4"
      },
      "outputs": [
        {
          "data": {
            "text/html": [
              "<div>\n",
              "<style scoped>\n",
              "    .dataframe tbody tr th:only-of-type {\n",
              "        vertical-align: middle;\n",
              "    }\n",
              "\n",
              "    .dataframe tbody tr th {\n",
              "        vertical-align: top;\n",
              "    }\n",
              "\n",
              "    .dataframe thead th {\n",
              "        text-align: right;\n",
              "    }\n",
              "</style>\n",
              "<table border=\"1\" class=\"dataframe\">\n",
              "  <thead>\n",
              "    <tr style=\"text-align: right;\">\n",
              "      <th></th>\n",
              "      <th>X1</th>\n",
              "      <th>X7</th>\n",
              "    </tr>\n",
              "  </thead>\n",
              "  <tbody>\n",
              "    <tr>\n",
              "      <th>755</th>\n",
              "      <td>0.69</td>\n",
              "      <td>0.40</td>\n",
              "    </tr>\n",
              "    <tr>\n",
              "      <th>385</th>\n",
              "      <td>0.98</td>\n",
              "      <td>0.25</td>\n",
              "    </tr>\n",
              "    <tr>\n",
              "      <th>558</th>\n",
              "      <td>0.71</td>\n",
              "      <td>0.40</td>\n",
              "    </tr>\n",
              "    <tr>\n",
              "      <th>428</th>\n",
              "      <td>0.62</td>\n",
              "      <td>0.25</td>\n",
              "    </tr>\n",
              "    <tr>\n",
              "      <th>657</th>\n",
              "      <td>0.69</td>\n",
              "      <td>0.40</td>\n",
              "    </tr>\n",
              "    <tr>\n",
              "      <th>...</th>\n",
              "      <td>...</td>\n",
              "      <td>...</td>\n",
              "    </tr>\n",
              "    <tr>\n",
              "      <th>407</th>\n",
              "      <td>0.76</td>\n",
              "      <td>0.25</td>\n",
              "    </tr>\n",
              "    <tr>\n",
              "      <th>601</th>\n",
              "      <td>0.74</td>\n",
              "      <td>0.40</td>\n",
              "    </tr>\n",
              "    <tr>\n",
              "      <th>243</th>\n",
              "      <td>0.98</td>\n",
              "      <td>0.10</td>\n",
              "    </tr>\n",
              "    <tr>\n",
              "      <th>321</th>\n",
              "      <td>0.69</td>\n",
              "      <td>0.25</td>\n",
              "    </tr>\n",
              "    <tr>\n",
              "      <th>80</th>\n",
              "      <td>0.69</td>\n",
              "      <td>0.10</td>\n",
              "    </tr>\n",
              "  </tbody>\n",
              "</table>\n",
              "<p>576 rows × 2 columns</p>\n",
              "</div>"
            ],
            "text/plain": [
              "       X1    X7\n",
              "755  0.69  0.40\n",
              "385  0.98  0.25\n",
              "558  0.71  0.40\n",
              "428  0.62  0.25\n",
              "657  0.69  0.40\n",
              "..    ...   ...\n",
              "407  0.76  0.25\n",
              "601  0.74  0.40\n",
              "243  0.98  0.10\n",
              "321  0.69  0.25\n",
              "80   0.69  0.10\n",
              "\n",
              "[576 rows x 2 columns]"
            ]
          },
          "execution_count": 63,
          "metadata": {},
          "output_type": "execute_result"
        }
      ],
      "source": [
        "X_train[selected_feat]"
      ]
    },
    {
      "cell_type": "code",
      "execution_count": null,
      "id": "a67fb306-9d20-481f-b741-77d4d8c44850",
      "metadata": {
        "id": "a67fb306-9d20-481f-b741-77d4d8c44850",
        "outputId": "c34361ec-2737-4567-ca14-1d7fc81ad43e"
      },
      "outputs": [
        {
          "name": "stdout",
          "output_type": "stream",
          "text": [
            "Train Set\n",
            "Random Forest Roc_auc= 0.9812670902340821\n",
            "Test Set\n",
            "Random Forest Roc_auc= 0.9849694120396858\n"
          ]
        }
      ],
      "source": [
        "efs_t=RandomForestRegressor(n_estimators=200,random_state=41,max_depth=4)\n",
        "efs_t.fit(X_train[selected_feat],y_train)\n",
        "\n",
        "print('Train Set')\n",
        "pred = efs_t.predict(X_train[selected_feat])\n",
        "print(\"Random Forest Roc_auc= {}\".format(r2_score(y_train,pred)))\n",
        "\n",
        "print('Test Set')\n",
        "pred = efs_t.predict(X_test[selected_feat])\n",
        "print(\"Random Forest Roc_auc= {}\".format(r2_score(y_test,pred)))"
      ]
    },
    {
      "cell_type": "code",
      "execution_count": null,
      "id": "cd661e0e-5c5b-47ab-b9cf-5da2ea482879",
      "metadata": {
        "id": "cd661e0e-5c5b-47ab-b9cf-5da2ea482879",
        "outputId": "3fb528c1-b69e-4b64-88eb-404a911f4740"
      },
      "outputs": [
        {
          "name": "stdout",
          "output_type": "stream",
          "text": [
            "Train Set\n",
            "Random Forest Roc_auc= 0.9812727656336772\n",
            "Test Set\n",
            "Random Forest Roc_auc= 0.9849672989602771\n"
          ]
        }
      ],
      "source": [
        "efs_t=RandomForestRegressor(n_estimators=200,random_state=41,max_depth=4)\n",
        "efs_t.fit(X_train,y_train)\n",
        "\n",
        "print('Train Set')\n",
        "pred = efs_t.predict(X_train)\n",
        "print(\"Random Forest Roc_auc= {}\".format(r2_score(y_train,pred)))\n",
        "\n",
        "print('Test Set')\n",
        "pred = efs_t.predict(X_test)\n",
        "print(\"Random Forest Roc_auc= {}\".format(r2_score(y_test,pred)))"
      ]
    },
    {
      "cell_type": "code",
      "execution_count": null,
      "id": "901269e7-b698-4bab-9c10-a1959b35f54f",
      "metadata": {
        "id": "901269e7-b698-4bab-9c10-a1959b35f54f"
      },
      "outputs": [],
      "source": []
    }
  ],
  "metadata": {
    "kernelspec": {
      "display_name": "Python 3",
      "language": "python",
      "name": "python3"
    },
    "language_info": {
      "codemirror_mode": {
        "name": "ipython",
        "version": 3
      },
      "file_extension": ".py",
      "mimetype": "text/x-python",
      "name": "python",
      "nbconvert_exporter": "python",
      "pygments_lexer": "ipython3",
      "version": "3.8.10"
    },
    "colab": {
      "provenance": []
    }
  },
  "nbformat": 4,
  "nbformat_minor": 5
}